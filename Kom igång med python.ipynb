{
 "cells": [
  {
   "cell_type": "markdown",
   "metadata": {},
   "source": [
    "# Kom igång med Python\n",
    "\n",
    "I detta inlägget går vi igenom hur man snabbt kommer igång med Python. Det finns redan otaliga tutorials och forum som går igenom allt från det mest grundläggande man behöver veta för att använda python i sin dataanalys till de mest komplicerade ämnen, google is your friend! Fastnar man med något problem så finns det nästan alltid någon annan som brottats med samma, gör en sökning på nätet och inkludera python i sökraden så hittar du med säkerhet en lösning. Har du frågor kan du självklart även kontakta mig (ida.lundholm-benzi@ferrologic.se).\n",
    "\n",
    "Snabba tips:\n",
    "\n",
    "* Ett superbra forum att använda sig av är [Stack Overflow](https://stackoverflow.com/)\n",
    "* [Pythons officiella sida](https://www.python.org/about/gettingstarted/) har mycket hjälp för både nybörjare och experter \n",
    "* Det finns även inbyggd hjälp i python som är bra att använda sig av för att veta mer om en specifik funktion man vill använda, skriv bara ? följt av funktionens namn, exempel:\n",
    "\n",
    "![imag](help function.png)"
   ]
  },
  {
   "cell_type": "markdown",
   "metadata": {},
   "source": [
    "# Installera python\n",
    "\n",
    "Har du en dator med UNIX system så finns python oftast redan installerat och även vissa Windows datorer kommer med en python installation. Har man inte python installerat så rekommenderar jag att man laddar ner [Anaconda](https://docs.anaconda.com/anaconda/install/) så får man både python och en pakethanterare för pythons olika moduler.\n",
    "\n",
    "# Jupyter notebook\n",
    "Jupyter notebooks är ett superbra verktyg för att interaktivt utveckla och presentera data science projekt. Installera jupyter notebook enkelt genom att öppna anaconda prompt och skriv: \n",
    "> `conda install -c conda-forge notebook`\n",
    "  \n",
    "Starta jupyter notebook och öppna en ny Python 3 notebook för att komma igång!  \n",
    "<br>\n",
    "![image.png](new notebook.png)\n",
    "<br>\n",
    "I notebook kan man sedan alternera mellan att skriva och exekvera kod med vanlig text.\n",
    "Testa genom att t ex skriva print('Hello world!') i första cellen och tryck sedan Ctrl+Enter för att exekvera  \n",
    "<br> \n",
    "![image.png](hello world.png)\n",
    "<br>  \n",
    "[Här](https://www.datacamp.com/community/tutorials/tutorial-jupyter-notebook) finns en utförlig och bra tutorial för hur man använder jupyter notebooks.\n",
    "\n",
    "# Använda bibliotek\n",
    "När man installerar python får man även med en rad vanliga bibliotek som man kan tänkas behöva. Saknas ett paket kan man installera det via sin pakethanterare (t ex conda) eller exempelvis [direkt i jupyter notebook.](https://jakevdp.github.io/blog/2017/12/05/installing-python-packages-from-jupyter/ )\n",
    "\n",
    "För att sedan använda biblioteket behöver man importera dem genom att skriva \n",
    "`import` följt av bibliotekets namn.\n",
    "\n",
    "# Exempel från Smart Energi\n",
    "\n",
    "Vi kommer att kika på data som kommer från Smart Energi. Datat innehåller konsumption över tid samt utomhustemperatur för en fjärrvärmemätstation i Göteborg. Det är en `csv`-fil som finns att ladda ner [här](https://drive.google.com/drive/folders/1gklGgsdYH3PoOwrGlySWqQnFn0nckbXX?usp=sharing), observera att du måste ha en ferrologic-adress för att ladda ner data.\n",
    "\n",
    "Vi kommer nu använda python biblioteket pandas för data manipulering och analys samt matplotlib för visualisering. Importera pandas och läs in csv filen till en pandas data frame. Det är bra praxis att titta på innehållet i sin data frame innan man börjar sin analys. Få en översikt av din data frame med funktionen info och titta på de första raderna med hjälp av head till exempel. "
   ]
  },
  {
   "cell_type": "code",
   "execution_count": null,
   "metadata": {},
   "outputs": [],
   "source": [
    "import pandas as pd\n",
    "\n",
    "tds9 = pd.read_csv('tds9.csv', parse_dates=['timestamp', 'consumption_from', 'consumption_to'])\n",
    "tds9.info()"
   ]
  },
  {
   "cell_type": "markdown",
   "metadata": {},
   "source": [
    "Det är standard att importera pandas biblioteket med alias pd så vi gör det även här. För att selektera särskilda kolumner i en DataFrame kan man skriva namnet på kolumnerna inom hakparanteser ex tds9['consumption_value']. Med pandas kan man använda method chaining där funktioner kan kedjas efter varandra så att individuella objekt ej behöver skapas efter varje operation ([här](https://towardsdatascience.com/the-unreasonable-effectiveness-of-method-chaining-in-pandas-15c2109e3c69) kan man läsa mer om method chaining). Detta är liknande funktionalitet som man får med the pipe `%>%` i R.\n",
    "\n",
    "Just detta data är tidsberoende och för att effektivt göra tidsserie manipulationer med pandas så behöver vi göra om datumet som finns i kolumnen `timestamp` till dataFramens index. Datat innehåller konsumtions värden för både energi och flöde, för att endast titta på energi filtrerar vi först på kolumnen `property`. För att sedan t ex se median konsumtionen och temperatur per månad samplar vi om data på just månad med hjälp av resample funktionen. Argumentet 'M' säger åt funktionen att sampla per slutet av varje månad (fler frekvenssträngar kan man hitta [här](https://pandas.pydata.org/pandas-docs/stable/user_guide/timeseries.html)). Därefter väljer vi ut vilka kolumner vi vill summera samt lägger till en summerings funktion. "
   ]
  },
  {
   "cell_type": "code",
   "execution_count": null,
   "metadata": {},
   "outputs": [],
   "source": [
    "tds9.index = tds9['timestamp']\n",
    "tds9.resample('M')['temperature','consumption_value'].median().tail()\n"
   ]
  },
  {
   "cell_type": "markdown",
   "metadata": {},
   "source": [
    "## Visualisering\n",
    "Det finns flera python bibliotek för visualisering i python, några av de vanligare är:\n",
    " * Matplotlib: \"low level\", har stor möjlighet för anpassning men kräver därför mer kod\n",
    " * Pandas Visualization: enkelt att använda med pandas data frames, bygger på matplotlib\n",
    " * Seaborn: \"high level\", enklare och snyggare\n",
    " * ggplot: baserat på R's visualisering\n",
    " * Plotly: för interaktiva visualiseringar\n",
    " \n",
    "Då vi jobbar med en pandas Data Frame är det enklast att visualisera med hjälp av den inbyggda plot funktionen, här med konsumtion mot utomhustemperatur:"
   ]
  },
  {
   "cell_type": "code",
   "execution_count": null,
   "metadata": {},
   "outputs": [],
   "source": [
    "import matplotlib.pyplot as plt\n",
    "\n",
    "%matplotlib inline\n",
    "tds9.plot(x='temperature', y='consumption_value', kind='scatter', figsize=(10,7))"
   ]
  },
  {
   "cell_type": "markdown",
   "metadata": {},
   "source": [
    "Vill man till exempel färglägga olika datapunkter efter temperaturintervall är det enklare att använda seaborn som har ett argument för just kategorier (hue). Här även med definierade titlar och namn för axlarna:"
   ]
  },
  {
   "cell_type": "code",
   "execution_count": null,
   "metadata": {},
   "outputs": [],
   "source": [
    "fig = plt.figure(figsize = (10,7))\n",
    "tds9['Temperaturintervall'] = pd.cut( tds9['temperature'], [-100, -5, 2, 9, 15, 20, 100])\n",
    "ax = sns.scatterplot(x = 'temperature', y = 'consumption_value', hue='Temperaturintervall', data = tds9)\n",
    "ax.set_xlabel('Utomhustemperatur C')\n",
    "ax.set_ylabel('Konsumtion KwH')\n",
    "ax.set_title('Relation mellan utomhustemperatur och fjärrvärmekonsumtion', size=16)\n"
   ]
  },
  {
   "cell_type": "markdown",
   "metadata": {},
   "source": [
    "## Modellering\n",
    "\n",
    "För modellering och Machine Learning i python används det kraftfulla biblioteket sci kit learn som kommer med hundratals olika modeller. Vi kan testa att anpassa en enkel linjär regressions modell till konsumtionen som funktion av utomhustemperatur. Att få fram sammanfattad statistik för sin modell kräver fler rader kod jämfört med r då scikit learn inte har någon funktion likt summary(lm_model) men man kan ta fram det man önskar med metrics från scikit learn.  "
   ]
  },
  {
   "cell_type": "code",
   "execution_count": null,
   "metadata": {},
   "outputs": [],
   "source": [
    "from sklearn.linear_model import LinearRegression\n",
    "from sklearn import metrics\n",
    "import numpy as np\n",
    "\n",
    "data = data[['temperature', 'consumption_value']].dropna()\n",
    "x = data['temperature'].values.reshape(-1,1)\n",
    "y = data['consumption_value'].values.reshape(-1,1)\n",
    "\n",
    "# Fit a linear regression model to the data\n",
    "model = LinearRegression()\n",
    "model.fit(x, y)\n",
    "\n",
    "# Make predictions\n",
    "predicted = model.predict(x)\n",
    "\n",
    "# Summarize the fit of the model\n",
    "print('R - squared:', metrics.r2_score(y, predicted))  \n",
    "print('Root Mean Squared Error:', np.sqrt(metrics.mean_squared_error(y, predicted)))\n",
    "\n",
    "data['predicted'] = predicted\n",
    "ax = data.plot(x = 'temperature', y = 'consumption_value', kind = 'scatter')\n",
    "data.plot('temperature', 'predicted', kind='scatter', color = 'r', ax=ax)\n"
   ]
  },
  {
   "cell_type": "markdown",
   "metadata": {},
   "source": [
    "Som vi kan se är en linjär regression inte så lämplig i detta fall. För att fånga den riktiga effektsignaturen skulle man antigen behöva dela upp regressionen i olika temepraturintervall, eller använda sig av en icke-linjär metod.\n",
    "\n",
    "/Ida"
   ]
  }
 ],
 "metadata": {
  "kernelspec": {
   "display_name": "Python 3",
   "language": "python",
   "name": "python3"
  },
  "language_info": {
   "codemirror_mode": {
    "name": "ipython",
    "version": 3
   },
   "file_extension": ".py",
   "mimetype": "text/x-python",
   "name": "python",
   "nbconvert_exporter": "python",
   "pygments_lexer": "ipython3",
   "version": "3.6.3"
  }
 },
 "nbformat": 4,
 "nbformat_minor": 2
}
